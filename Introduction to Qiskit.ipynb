{
 "cells": [
  {
   "cell_type": "markdown",
   "id": "f78232f3-3580-4818-892e-6ede2b065f17",
   "metadata": {},
   "source": [
    "# Introduction to Qiskit"
   ]
  },
  {
   "cell_type": "markdown",
   "id": "a385fc36-74cf-47e3-a313-40d760b99b84",
   "metadata": {},
   "source": [
    "**A brief review**\n",
    "\n",
    "1. Qubits: A *normalized* column vector $\\quad$\n",
    "    $|0> = \\begin{pmatrix} 1\\\\ 0 \\end{pmatrix}$\n",
    "    $|1> = \\begin{pmatrix} 0\\\\ 1 \\end{pmatrix}$ $\\quad$ $|\\psi> = \\begin{pmatrix} \\alpha \\\\ \\beta \\end{pmatrix} = \\alpha|0> + \\beta|1>$.\n",
    "\n",
    "2. Measurement: Qubit collapses to $|0>$ or $|1>$; $\\quad$ measure $|\\psi>$ $\\Rightarrow$ $|0>$ with probability $|\\alpha|^2$, $|1>$ with probability $|\\beta|^2$ $\\Rightarrow$ $|\\alpha|^2 + |\\beta|^2 = 1$.\n",
    "\n",
    "3. Gates: Quantum gates are unitary operators $U|\\psi> = |\\phi>$. Action of any quantum gate is a rotation on the Bloch sphere."
   ]
  },
  {
   "cell_type": "markdown",
   "id": "7e27f328",
   "metadata": {},
   "source": [
    "###  Importing the required libraries"
   ]
  },
  {
   "cell_type": "code",
   "execution_count": null,
   "id": "3d2ddd0b",
   "metadata": {},
   "outputs": [],
   "source": [
    "# !pip install qiskit\n",
    "# !pip install qiskit-aer\n",
    "# !pip install 'qiskit[visualization]'"
   ]
  },
  {
   "cell_type": "code",
   "execution_count": 1,
   "id": "632cdb10-8045-4de5-ae26-7ef7b04e6ced",
   "metadata": {},
   "outputs": [],
   "source": [
    "from qiskit import QuantumRegister, ClassicalRegister, QuantumCircuit\n",
    "from qiskit.visualization import plot_histogram, plot_bloch_multivector\n",
    "import numpy as np"
   ]
  },
  {
   "cell_type": "markdown",
   "id": "923833eb-e2f9-4acf-b672-349499d2f799",
   "metadata": {},
   "source": [
    "### The first quantum circuit"
   ]
  },
  {
   "cell_type": "markdown",
   "id": "cec12407-6888-4765-adc3-5ceb14d4b636",
   "metadata": {},
   "source": [
    "We can define the number of quantum and classical registers that we want. A quantum register is a qubit, and a classical register is a bit that will hold the measurement outcome of the qubit. A QuantumCircuit is an object that takes the quantum and classical registers."
   ]
  },
  {
   "cell_type": "code",
   "execution_count": 2,
   "id": "e4d375ea-fea0-4a16-bcfd-3354a42f8c72",
   "metadata": {},
   "outputs": [],
   "source": [
    "# initialize a quantum circuit with 2 qubits and 2 cbits\n",
    "\n",
    "qr = QuantumRegister(2)\n",
    "cr = ClassicalRegister(2)\n",
    "qc = QuantumCircuit(qr,cr)"
   ]
  },
  {
   "cell_type": "code",
   "execution_count": null,
   "id": "ff203589-85e9-4492-bb07-cd56e4cf747f",
   "metadata": {},
   "outputs": [],
   "source": [
    "qc.draw('mpl')"
   ]
  },
  {
   "cell_type": "markdown",
   "id": "4948f9f1-dd65-4878-b3a4-49f6582f2353",
   "metadata": {},
   "source": [
    "All qubits are initialized in |0>. In the Bloch sphere representation, this is the north pole. This is a 2-qubit system, so there should be two Bloch spheres, one for each qubit -- both of them pointing to the north pole."
   ]
  },
  {
   "cell_type": "code",
   "execution_count": null,
   "id": "407e6387-195a-42e0-9c8d-89606e1280a1",
   "metadata": {},
   "outputs": [],
   "source": [
    "plot_bloch_multivector(qc)"
   ]
  },
  {
   "cell_type": "markdown",
   "id": "e04e345e-017b-4ab6-8730-cad996ecfea7",
   "metadata": {},
   "source": [
    "Let us now measure the qubits. Since the qubits are in state |00>, the outcome should be 00 itself with probability 1."
   ]
  },
  {
   "cell_type": "code",
   "execution_count": null,
   "id": "8fdd2b5c-63e0-4106-9974-94441ac1d688",
   "metadata": {},
   "outputs": [],
   "source": [
    "qc.measure(qr,cr)\n",
    "qc.draw('mpl')"
   ]
  },
  {
   "cell_type": "markdown",
   "id": "ca15dc43-f593-46ac-890d-6099cb577ef4",
   "metadata": {},
   "source": [
    "In order to simulate the circuit, we need to define a simulator to run the circuit. We shall use Qiskit Aer for simulation."
   ]
  },
  {
   "cell_type": "code",
   "execution_count": 9,
   "id": "6be53f2d-9997-4bab-aebb-c57727287f20",
   "metadata": {},
   "outputs": [],
   "source": [
    "from qiskit_aer import Aer"
   ]
  },
  {
   "cell_type": "markdown",
   "id": "d4d0282b-1ca1-4e01-ad8d-7990014c1393",
   "metadata": {},
   "source": [
    "We will use Statevector simulator to simulate statevectors"
   ]
  },
  {
   "cell_type": "code",
   "execution_count": 10,
   "id": "7064b43b-0821-4875-bb48-28d3915af60e",
   "metadata": {},
   "outputs": [],
   "source": [
    "simulator = Aer.get_backend(\"statevector_simulator\")\n",
    "result = simulator.run(qc).result()"
   ]
  },
  {
   "cell_type": "markdown",
   "id": "bd523f21-8f60-4fcc-85aa-0516d7feb44b",
   "metadata": {},
   "source": [
    "To retrieve the statevector, we will use the `get_statevector()` method."
   ]
  },
  {
   "cell_type": "code",
   "execution_count": null,
   "id": "8f2954b4-9eb8-432e-85f0-4d123cf92b91",
   "metadata": {},
   "outputs": [],
   "source": [
    "sv = result.get_statevector()\n",
    "print(sv)"
   ]
  },
  {
   "cell_type": "markdown",
   "id": "c9441371-7526-490f-ad72-e626b8dc50be",
   "metadata": {},
   "source": [
    "Let's create a bell state $\\ket{\\Phi^+}$"
   ]
  },
  {
   "cell_type": "code",
   "execution_count": null,
   "id": "3d5ad228-9a11-4b06-81a2-91f360b478d6",
   "metadata": {},
   "outputs": [],
   "source": [
    "qc = QuantumCircuit(2)\n",
    "qc.h(0)\n",
    "qc.cx(0,1)\n",
    "qc.draw('mpl')"
   ]
  },
  {
   "cell_type": "markdown",
   "id": "36fbf146-e64e-428d-b117-79ebbaf8797a",
   "metadata": {},
   "source": [
    "Let us verify our notion using Bloch sphere."
   ]
  },
  {
   "cell_type": "code",
   "execution_count": null,
   "id": "141208a8-36b9-45b9-884b-dfd8f0a0dd9d",
   "metadata": {},
   "outputs": [],
   "source": [
    "plot_bloch_multivector(qc)"
   ]
  },
  {
   "cell_type": "markdown",
   "id": "c3f4fa32-4199-40cf-b1ed-a7cc62f5f300",
   "metadata": {},
   "source": [
    "When we measure these two qubits, the first qubit should collapse to 1, and the second to 0, with probability 1."
   ]
  },
  {
   "cell_type": "code",
   "execution_count": null,
   "id": "761d6ee3-5822-45b1-97a4-47d269223c93",
   "metadata": {},
   "outputs": [],
   "source": [
    "qc.draw('mpl')"
   ]
  },
  {
   "cell_type": "code",
   "execution_count": null,
   "id": "ce912e80-c498-4e89-9456-a5dbed956176",
   "metadata": {},
   "outputs": [],
   "source": [
    "result = simulator.run(qc).result()\n",
    "sv = result.get_statevector()\n",
    "print(sv)"
   ]
  },
  {
   "cell_type": "markdown",
   "id": "52a8ad11-4f64-450e-a308-f2be4a2e7171",
   "metadata": {},
   "source": [
    "To simulate the same circuit using shot based simulater, we will use QASM simulator"
   ]
  },
  {
   "cell_type": "code",
   "execution_count": null,
   "id": "f07ec76d-dccd-4ced-92bf-3668741f23b8",
   "metadata": {},
   "outputs": [],
   "source": [
    "simulator = Aer.get_backend(\"qasm_simulator\")\n",
    "qc.measure_all()\n",
    "result = simulator.run(qc).result()\n",
    "counts = result.get_counts()\n",
    "print(counts)"
   ]
  },
  {
   "cell_type": "markdown",
   "id": "60211a88-afad-4d6b-9ec6-5bf4a69c775b",
   "metadata": {},
   "source": [
    "### Try out questions\n",
    "Let's build some circuits and get our hands dirty.\n",
    "\n",
    "Q1. Let's create all the bell states $\\ket{\\Phi^+}, \\ket{\\Phi^-}, \\ket{\\Psi^+}, \\ket{\\Psi^-}$ "
   ]
  },
  {
   "cell_type": "code",
   "execution_count": 17,
   "id": "97851822",
   "metadata": {},
   "outputs": [],
   "source": [
    "simulator = Aer.get_backend(\"statevector_simulator\")"
   ]
  },
  {
   "cell_type": "code",
   "execution_count": null,
   "id": "3deebf21-4e0c-4b30-a4f0-684d4d5908ae",
   "metadata": {},
   "outputs": [],
   "source": [
    "phi_plus = None # Implement your circuit here\n",
    "\n",
    "result = simulator.run(phi_plus).result()\n",
    "sv = result.get_statevector()\n",
    "assert np.allclose(sv.data,[1/np.sqrt(2), 0, 0, 1/np.sqrt(2)])\n",
    "phi_plus.draw(\"mpl\")"
   ]
  },
  {
   "cell_type": "code",
   "execution_count": null,
   "id": "72e03fe9",
   "metadata": {},
   "outputs": [],
   "source": [
    "phi_minus = None # Implement your circuit here\n",
    "\n",
    "result = simulator.run(phi_minus).result()\n",
    "sv = result.get_statevector()\n",
    "assert np.allclose(sv.data,[1/np.sqrt(2), 0, 0, -1/np.sqrt(2)])\n",
    "phi_minus.draw(\"mpl\")"
   ]
  },
  {
   "cell_type": "code",
   "execution_count": null,
   "id": "a4b84c4e",
   "metadata": {},
   "outputs": [],
   "source": [
    "psi_plus = None # Implement your circuit here\n",
    "\n",
    "result = simulator.run(psi_plus).result()\n",
    "sv = result.get_statevector()\n",
    "assert np.allclose(sv.data,[0, 1/np.sqrt(2), 1/np.sqrt(2), 0])\n",
    "psi_plus.draw(\"mpl\")"
   ]
  },
  {
   "cell_type": "code",
   "execution_count": null,
   "id": "66d6b093",
   "metadata": {},
   "outputs": [],
   "source": [
    "psi_minus = None # Implement your circuit here\n",
    "\n",
    "result = simulator.run(psi_minus).result()\n",
    "sv = result.get_statevector()\n",
    "assert np.allclose(sv.data,[0, -1/np.sqrt(2), 1/np.sqrt(2), 0])\n",
    "psi_minus.draw(\"mpl\")"
   ]
  },
  {
   "cell_type": "markdown",
   "id": "300a86d0-6913-40c5-b722-71f0c5c205b5",
   "metadata": {},
   "source": [
    "Q2. Let's implement logic gates using quantum circuits"
   ]
  },
  {
   "cell_type": "code",
   "execution_count": null,
   "id": "f17f1504",
   "metadata": {},
   "outputs": [],
   "source": [
    "simulator = Aer.get_backend(\"qasm_simulator\")"
   ]
  },
  {
   "cell_type": "code",
   "execution_count": null,
   "id": "cd76b15c-4a70-4a30-b228-453efe53cb84",
   "metadata": {},
   "outputs": [],
   "source": [
    "not_gate = None # Implement your circuit here\n",
    "\n",
    "result = simulator.run(not_gate).result()\n",
    "counts = result.get_counts()\n",
    "print(counts)\n",
    "not_gate.draw(\"mpl\")"
   ]
  },
  {
   "cell_type": "code",
   "execution_count": null,
   "id": "c4274a40-f6ca-4ab8-bd14-b4a2ea71d939",
   "metadata": {},
   "outputs": [],
   "source": [
    "xor_gate = None # Implement your circuit here\n",
    "\n",
    "result = simulator.run(xor_gate).result()\n",
    "counts = result.get_counts()\n",
    "print(counts)\n",
    "xor_gate.draw(\"mpl\")"
   ]
  },
  {
   "cell_type": "code",
   "execution_count": null,
   "id": "fef75c00-2f87-4c21-b551-289b93e8fa9e",
   "metadata": {},
   "outputs": [],
   "source": [
    "and_gate = None # Implement your circuit here\n",
    "\n",
    "result = simulator.run(and_gate).result()\n",
    "counts = result.get_counts()\n",
    "print(counts)\n",
    "and_gate.draw(\"mpl\")"
   ]
  },
  {
   "cell_type": "code",
   "execution_count": null,
   "id": "e319ce83",
   "metadata": {},
   "outputs": [],
   "source": [
    "or_gate = None # Implement your circuit here\n",
    "\n",
    "result = simulator.run(or_gate).result()\n",
    "counts = result.get_counts()\n",
    "print(counts)\n",
    "or_gate.draw(\"mpl\")"
   ]
  },
  {
   "cell_type": "markdown",
   "id": "6954324f",
   "metadata": {},
   "source": [
    "Q3. Implement GHZ state $\\frac{1}{\\sqrt{2}}(\\ket{000} + \\ket{111})$"
   ]
  },
  {
   "cell_type": "code",
   "execution_count": null,
   "id": "fafb97ec",
   "metadata": {},
   "outputs": [],
   "source": [
    "ghz =  None # Implement your circuit here\n",
    "\n",
    "result = simulator.run(ghz).result()\n",
    "counts = result.get_counts()\n",
    "print(counts)\n",
    "ghz.draw(\"mpl\")"
   ]
  },
  {
   "cell_type": "markdown",
   "id": "b079e724",
   "metadata": {},
   "source": [
    "Q4. Design a Quantum Circuit which corresponds to this statevector"
   ]
  },
  {
   "cell_type": "code",
   "execution_count": null,
   "id": "4b42eebc",
   "metadata": {},
   "outputs": [],
   "source": [
    "required_sv = [ 0+0j, 0+0j, 0.707+0j, 0+0j, 0.707+0j, 0+0j, 0+0j, 0+0j ]\n",
    "qc = None # Implement your circuit here\n",
    "\n",
    "simulator = Aer.get_backend(\"statevector_simulator\")\n",
    "result = simulator.run(qc).result()\n",
    "sv = result.get_statevector()\n",
    "assert np.allclose(sv.data,required_sv, rtol=0.001)\n",
    "qc.draw(\"mpl\")"
   ]
  }
 ],
 "metadata": {
  "kernelspec": {
   "display_name": "Python 3 (ipykernel)",
   "language": "python",
   "name": "python3"
  },
  "language_info": {
   "codemirror_mode": {
    "name": "ipython",
    "version": 3
   },
   "file_extension": ".py",
   "mimetype": "text/x-python",
   "name": "python",
   "nbconvert_exporter": "python",
   "pygments_lexer": "ipython3",
   "version": "3.12.4"
  }
 },
 "nbformat": 4,
 "nbformat_minor": 5
}
